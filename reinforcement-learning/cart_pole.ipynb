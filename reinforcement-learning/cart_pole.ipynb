{
  "nbformat": 4,
  "nbformat_minor": 0,
  "metadata": {
    "colab": {
      "name": "cart_pole.ipynb",
      "provenance": [],
      "collapsed_sections": [],
      "machine_shape": "hm",
      "authorship_tag": "ABX9TyNOFSCKvWTvfB/HfJRsxWDn",
      "include_colab_link": true
    },
    "kernelspec": {
      "name": "python3",
      "display_name": "Python 3"
    },
    "accelerator": "GPU"
  },
  "cells": [
    {
      "cell_type": "markdown",
      "metadata": {
        "id": "view-in-github",
        "colab_type": "text"
      },
      "source": [
        "<a href=\"https://colab.research.google.com/github/dwdb/deep-learning/blob/master/reinforcement-learning/cart_pole.ipynb\" target=\"_parent\"><img src=\"https://colab.research.google.com/assets/colab-badge.svg\" alt=\"Open In Colab\"/></a>"
      ]
    },
    {
      "cell_type": "code",
      "metadata": {
        "id": "2gB0QEXdjXJM",
        "colab_type": "code",
        "colab": {
          "base_uri": "https://localhost:8080/",
          "height": 363
        },
        "outputId": "3b8c08e5-07f7-43c6-f3fe-94009f10c625"
      },
      "source": [
        "import gym\n",
        "import tensorflow as tf\n",
        "import numpy as np\n",
        "\n",
        "!nvidia-smi"
      ],
      "execution_count": 2,
      "outputs": [
        {
          "output_type": "stream",
          "text": [
            "Wed Jul  1 11:35:42 2020       \n",
            "+-----------------------------------------------------------------------------+\n",
            "| NVIDIA-SMI 450.36.06    Driver Version: 418.67       CUDA Version: 10.1     |\n",
            "|-------------------------------+----------------------+----------------------+\n",
            "| GPU  Name        Persistence-M| Bus-Id        Disp.A | Volatile Uncorr. ECC |\n",
            "| Fan  Temp  Perf  Pwr:Usage/Cap|         Memory-Usage | GPU-Util  Compute M. |\n",
            "|                               |                      |               MIG M. |\n",
            "|===============================+======================+======================|\n",
            "|   0  Tesla P100-PCIE...  Off  | 00000000:00:04.0 Off |                    0 |\n",
            "| N/A   41C    P0    28W / 250W |      0MiB / 16280MiB |      0%      Default |\n",
            "|                               |                      |                 ERR! |\n",
            "+-------------------------------+----------------------+----------------------+\n",
            "                                                                               \n",
            "+-----------------------------------------------------------------------------+\n",
            "| Processes:                                                                  |\n",
            "|  GPU   GI   CI        PID   Type   Process name                  GPU Memory |\n",
            "|        ID   ID                                                   Usage      |\n",
            "|=============================================================================|\n",
            "|  No running processes found                                                 |\n",
            "+-----------------------------------------------------------------------------+\n"
          ],
          "name": "stdout"
        }
      ]
    },
    {
      "cell_type": "code",
      "metadata": {
        "id": "wHNoXd2am2T6",
        "colab_type": "code",
        "colab": {
          "base_uri": "https://localhost:8080/",
          "height": 864
        },
        "outputId": "5a7fb6e8-47fe-4c4a-c9e0-d4a4dd4d40cb"
      },
      "source": [
        "class RLCartPole(object):\n",
        "    def __init__(self):\n",
        "        self.state_size=  4\n",
        "        self.hidden_size = 8\n",
        "        self.action_size = 2\n",
        "        self.agent = self.create_agent()\n",
        "\n",
        "        self.env = gym.make('CartPole-v0')\n",
        "\n",
        "        self.optimizer = tf.keras.optimizers.Adam(0.001)\n",
        "\n",
        "    def discount_rewards(self, rewards, gamma=0.99):\n",
        "        discounted = np.zeros_like(rewards)\n",
        "        running_add = 0.\n",
        "        for i in range(discounted.size - 1, -1, -1):\n",
        "            running_add = running_add * gamma + rewards[i]\n",
        "            discounted[i] = running_add\n",
        "        return discounted\n",
        "\n",
        "    def create_agent(self):\n",
        "        agent = tf.keras.Sequential([\n",
        "            tf.keras.layers.Dense(\n",
        "                self.hidden_size, input_shape=(self.state_size,), activation='relu'),    \n",
        "            tf.keras.layers.Dense(self.hidden_size, activation='relu'),   \n",
        "            tf.keras.layers.Dense(self.action_size, activation='softmax')\n",
        "        ])\n",
        "        return agent\n",
        "    \n",
        "    def train(self, episodes=5000, max_ep=999):\n",
        "        total_reward = []\n",
        "        grad_buf = [tf.zeros_like(var) for var in self.agent.trainable_variables]\n",
        "        for episode in range(episodes):\n",
        "            state = self.env.reset()\n",
        "            tau = []\n",
        "            running_reward  = 0.\n",
        "\n",
        "            for _ in range(max_ep):\n",
        "                action_dist = self.agent(np.expand_dims(state, axis=0))\n",
        "                action = np.random.choice(np.arange(self.action_size), p=action_dist.numpy()[0])\n",
        "                state1, reward, done, _ = self.env.step(action)\n",
        "                tau.append([state, action, reward])\n",
        "                state = state1\n",
        "                running_reward += reward\n",
        "                if done:\n",
        "                    break\n",
        "            states, actions, rewards = zip(*tau)\n",
        "            rewards = self.discount_rewards(rewards)\n",
        "            grads = self.calculate_gradient(np.array(states), np.array(actions), rewards)\n",
        "            for i, grad in enumerate(grads):\n",
        "                grad_buf[i] += grad\n",
        "\n",
        "            if episode % 5 == 0 and episode != 0:\n",
        "                self.optimizer.apply_gradients(\n",
        "                    zip(grad_buf, self.agent.trainable_variables))\n",
        "                grad_buf = [tf.zeros_like(v) for v in self.agent.trainable_variables]\n",
        "                    \n",
        "            total_reward.append(running_reward)\n",
        "            if episode % 100 == 0 and episode:\n",
        "                print(np.mean(total_reward[-100:]))\n",
        "    \n",
        "    def calculate_gradient(self, state, action, reward):\n",
        "        with tf.GradientTape() as tape:\n",
        "            action_dist = self.agent(state)\n",
        "            indices = tf.range(tf.shape(state)[0]) * self.action_size + action\n",
        "            action_dist = tf.gather(tf.reshape(action_dist, [-1]), indices)\n",
        "            loss = - tf.math.log(action_dist) * reward\n",
        "        grads = tape.gradient(loss, self.agent.trainable_variables)\n",
        "        return grads\n",
        "\n",
        "model = RLCartPole()\n",
        "model.train()"
      ],
      "execution_count": 36,
      "outputs": [
        {
          "output_type": "stream",
          "text": [
            "24.87\n",
            "28.82\n",
            "27.17\n",
            "28.52\n",
            "32.72\n",
            "33.67\n",
            "39.5\n",
            "40.65\n",
            "47.31\n",
            "52.67\n",
            "67.76\n",
            "81.69\n",
            "103.96\n",
            "121.27\n",
            "154.53\n",
            "166.3\n",
            "175.29\n",
            "186.08\n",
            "185.47\n",
            "191.43\n",
            "191.33\n",
            "178.27\n",
            "185.62\n",
            "184.68\n",
            "183.05\n",
            "189.64\n",
            "197.32\n",
            "195.95\n",
            "194.93\n",
            "196.38\n",
            "190.04\n",
            "196.3\n",
            "197.32\n",
            "193.51\n",
            "198.21\n",
            "199.36\n",
            "197.14\n",
            "199.92\n",
            "199.74\n",
            "197.85\n",
            "198.74\n",
            "197.93\n",
            "198.22\n",
            "196.73\n",
            "197.47\n",
            "199.7\n",
            "198.89\n",
            "200.0\n",
            "199.3\n"
          ],
          "name": "stdout"
        }
      ]
    }
  ]
}